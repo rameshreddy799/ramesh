{
 "cells": [
  {
   "cell_type": "code",
   "execution_count": 3,
   "metadata": {},
   "outputs": [],
   "source": [
    "#importing the libraries\n",
    "import numpy as np\n",
    "import matplotlib.pyplot as plt\n",
    "import pandas as pd\n",
    "\n",
    "#importing the Iris dataset with pandas\n",
    "dataset = pd.read_csv('C:\\\\Users\\\\ashranja\\\\Downloads\\\\Iris.csv')\n",
    "x = dataset.iloc[:, [0, 1, 2, 3]].values\n"
   ]
  },
  {
   "cell_type": "code",
   "execution_count": 4,
   "metadata": {},
   "outputs": [],
   "source": [
    "?pd.read_excel"
   ]
  },
  {
   "cell_type": "code",
   "execution_count": 7,
   "metadata": {},
   "outputs": [],
   "source": [
    "#x\n",
    "from sklearn.cluster import KMeans"
   ]
  },
  {
   "cell_type": "code",
   "execution_count": 8,
   "metadata": {},
   "outputs": [
    {
     "data": {
      "text/plain": [
       "\u001b[1;31mInit signature:\u001b[0m\n",
       "\u001b[0mKMeans\u001b[0m\u001b[1;33m(\u001b[0m\u001b[1;33m\n",
       "\u001b[0m    \u001b[0mn_clusters\u001b[0m\u001b[1;33m=\u001b[0m\u001b[1;36m8\u001b[0m\u001b[1;33m,\u001b[0m\u001b[1;33m\n",
       "\u001b[0m    \u001b[0minit\u001b[0m\u001b[1;33m=\u001b[0m\u001b[1;34m'k-means++'\u001b[0m\u001b[1;33m,\u001b[0m\u001b[1;33m\n",
       "\u001b[0m    \u001b[0mn_init\u001b[0m\u001b[1;33m=\u001b[0m\u001b[1;36m10\u001b[0m\u001b[1;33m,\u001b[0m\u001b[1;33m\n",
       "\u001b[0m    \u001b[0mmax_iter\u001b[0m\u001b[1;33m=\u001b[0m\u001b[1;36m300\u001b[0m\u001b[1;33m,\u001b[0m\u001b[1;33m\n",
       "\u001b[0m    \u001b[0mtol\u001b[0m\u001b[1;33m=\u001b[0m\u001b[1;36m0.0001\u001b[0m\u001b[1;33m,\u001b[0m\u001b[1;33m\n",
       "\u001b[0m    \u001b[0mprecompute_distances\u001b[0m\u001b[1;33m=\u001b[0m\u001b[1;34m'auto'\u001b[0m\u001b[1;33m,\u001b[0m\u001b[1;33m\n",
       "\u001b[0m    \u001b[0mverbose\u001b[0m\u001b[1;33m=\u001b[0m\u001b[1;36m0\u001b[0m\u001b[1;33m,\u001b[0m\u001b[1;33m\n",
       "\u001b[0m    \u001b[0mrandom_state\u001b[0m\u001b[1;33m=\u001b[0m\u001b[1;32mNone\u001b[0m\u001b[1;33m,\u001b[0m\u001b[1;33m\n",
       "\u001b[0m    \u001b[0mcopy_x\u001b[0m\u001b[1;33m=\u001b[0m\u001b[1;32mTrue\u001b[0m\u001b[1;33m,\u001b[0m\u001b[1;33m\n",
       "\u001b[0m    \u001b[0mn_jobs\u001b[0m\u001b[1;33m=\u001b[0m\u001b[1;32mNone\u001b[0m\u001b[1;33m,\u001b[0m\u001b[1;33m\n",
       "\u001b[0m    \u001b[0malgorithm\u001b[0m\u001b[1;33m=\u001b[0m\u001b[1;34m'auto'\u001b[0m\u001b[1;33m,\u001b[0m\u001b[1;33m\n",
       "\u001b[0m\u001b[1;33m)\u001b[0m\u001b[1;33m\u001b[0m\u001b[1;33m\u001b[0m\u001b[0m\n",
       "\u001b[1;31mDocstring:\u001b[0m     \n",
       "K-Means clustering\n",
       "\n",
       "Read more in the :ref:`User Guide <k_means>`.\n",
       "\n",
       "Parameters\n",
       "----------\n",
       "\n",
       "n_clusters : int, optional, default: 8\n",
       "    The number of clusters to form as well as the number of\n",
       "    centroids to generate.\n",
       "\n",
       "init : {'k-means++', 'random' or an ndarray}\n",
       "    Method for initialization, defaults to 'k-means++':\n",
       "\n",
       "    'k-means++' : selects initial cluster centers for k-mean\n",
       "    clustering in a smart way to speed up convergence. See section\n",
       "    Notes in k_init for more details.\n",
       "\n",
       "    'random': choose k observations (rows) at random from data for\n",
       "    the initial centroids.\n",
       "\n",
       "    If an ndarray is passed, it should be of shape (n_clusters, n_features)\n",
       "    and gives the initial centers.\n",
       "\n",
       "n_init : int, default: 10\n",
       "    Number of time the k-means algorithm will be run with different\n",
       "    centroid seeds. The final results will be the best output of\n",
       "    n_init consecutive runs in terms of inertia.\n",
       "\n",
       "max_iter : int, default: 300\n",
       "    Maximum number of iterations of the k-means algorithm for a\n",
       "    single run.\n",
       "\n",
       "tol : float, default: 1e-4\n",
       "    Relative tolerance with regards to inertia to declare convergence\n",
       "\n",
       "precompute_distances : {'auto', True, False}\n",
       "    Precompute distances (faster but takes more memory).\n",
       "\n",
       "    'auto' : do not precompute distances if n_samples * n_clusters > 12\n",
       "    million. This corresponds to about 100MB overhead per job using\n",
       "    double precision.\n",
       "\n",
       "    True : always precompute distances\n",
       "\n",
       "    False : never precompute distances\n",
       "\n",
       "verbose : int, default 0\n",
       "    Verbosity mode.\n",
       "\n",
       "random_state : int, RandomState instance or None (default)\n",
       "    Determines random number generation for centroid initialization. Use\n",
       "    an int to make the randomness deterministic.\n",
       "    See :term:`Glossary <random_state>`.\n",
       "\n",
       "copy_x : boolean, optional\n",
       "    When pre-computing distances it is more numerically accurate to center\n",
       "    the data first.  If copy_x is True (default), then the original data is\n",
       "    not modified, ensuring X is C-contiguous.  If False, the original data\n",
       "    is modified, and put back before the function returns, but small\n",
       "    numerical differences may be introduced by subtracting and then adding\n",
       "    the data mean, in this case it will also not ensure that data is\n",
       "    C-contiguous which may cause a significant slowdown.\n",
       "\n",
       "n_jobs : int or None, optional (default=None)\n",
       "    The number of jobs to use for the computation. This works by computing\n",
       "    each of the n_init runs in parallel.\n",
       "\n",
       "    ``None`` means 1 unless in a :obj:`joblib.parallel_backend` context.\n",
       "    ``-1`` means using all processors. See :term:`Glossary <n_jobs>`\n",
       "    for more details.\n",
       "\n",
       "algorithm : \"auto\", \"full\" or \"elkan\", default=\"auto\"\n",
       "    K-means algorithm to use. The classical EM-style algorithm is \"full\".\n",
       "    The \"elkan\" variation is more efficient by using the triangle\n",
       "    inequality, but currently doesn't support sparse data. \"auto\" chooses\n",
       "    \"elkan\" for dense data and \"full\" for sparse data.\n",
       "\n",
       "Attributes\n",
       "----------\n",
       "cluster_centers_ : array, [n_clusters, n_features]\n",
       "    Coordinates of cluster centers. If the algorithm stops before fully\n",
       "    converging (see ``tol`` and ``max_iter``), these will not be\n",
       "    consistent with ``labels_``.\n",
       "\n",
       "labels_ :\n",
       "    Labels of each point\n",
       "\n",
       "inertia_ : float\n",
       "    Sum of squared distances of samples to their closest cluster center.\n",
       "\n",
       "n_iter_ : int\n",
       "    Number of iterations run.\n",
       "\n",
       "Examples\n",
       "--------\n",
       "\n",
       ">>> from sklearn.cluster import KMeans\n",
       ">>> import numpy as np\n",
       ">>> X = np.array([[1, 2], [1, 4], [1, 0],\n",
       "...               [10, 2], [10, 4], [10, 0]])\n",
       ">>> kmeans = KMeans(n_clusters=2, random_state=0).fit(X)\n",
       ">>> kmeans.labels_\n",
       "array([1, 1, 1, 0, 0, 0], dtype=int32)\n",
       ">>> kmeans.predict([[0, 0], [12, 3]])\n",
       "array([1, 0], dtype=int32)\n",
       ">>> kmeans.cluster_centers_\n",
       "array([[10.,  2.],\n",
       "       [ 1.,  2.]])\n",
       "\n",
       "See also\n",
       "--------\n",
       "\n",
       "MiniBatchKMeans\n",
       "    Alternative online implementation that does incremental updates\n",
       "    of the centers positions using mini-batches.\n",
       "    For large scale learning (say n_samples > 10k) MiniBatchKMeans is\n",
       "    probably much faster than the default batch implementation.\n",
       "\n",
       "Notes\n",
       "------\n",
       "The k-means problem is solved using either Lloyd's or Elkan's algorithm.\n",
       "\n",
       "The average complexity is given by O(k n T), were n is the number of\n",
       "samples and T is the number of iteration.\n",
       "\n",
       "The worst case complexity is given by O(n^(k+2/p)) with\n",
       "n = n_samples, p = n_features. (D. Arthur and S. Vassilvitskii,\n",
       "'How slow is the k-means method?' SoCG2006)\n",
       "\n",
       "In practice, the k-means algorithm is very fast (one of the fastest\n",
       "clustering algorithms available), but it falls in local minima. That's why\n",
       "it can be useful to restart it several times.\n",
       "\n",
       "If the algorithm stops before fully converging (because of ``tol`` or\n",
       "``max_iter``), ``labels_`` and ``cluster_centers_`` will not be consistent,\n",
       "i.e. the ``cluster_centers_`` will not be the means of the points in each\n",
       "cluster. Also, the estimator will reassign ``labels_`` after the last\n",
       "iteration to make ``labels_`` consistent with ``predict`` on the training\n",
       "set.\n",
       "\u001b[1;31mFile:\u001b[0m           c:\\users\\ashranja\\appdata\\local\\continuum\\anaconda3\\lib\\site-packages\\sklearn\\cluster\\k_means_.py\n",
       "\u001b[1;31mType:\u001b[0m           type\n",
       "\u001b[1;31mSubclasses:\u001b[0m     MiniBatchKMeans\n"
      ]
     },
     "metadata": {},
     "output_type": "display_data"
    }
   ],
   "source": [
    "?KMeans"
   ]
  },
  {
   "cell_type": "code",
   "execution_count": 8,
   "metadata": {},
   "outputs": [],
   "source": [
    "#dir(sklearn)\n"
   ]
  },
  {
   "cell_type": "code",
   "execution_count": 9,
   "metadata": {
    "scrolled": true
   },
   "outputs": [
    {
     "data": {
      "image/png": "[encoded data removed]",
      "text/plain": [
       "<Figure size 432x288 with 1 Axes>"
      ]
     },
     "metadata": {
      "needs_background": "light"
     },
     "output_type": "display_data"
    }
   ],
   "source": [
    "#Finding the optimum number of clusters for k-means classification\n",
    "from sklearn.cluster import KMeans\n",
    "\n",
    "wcss = []\n",
    "\n",
    "for i in range(1, 11):\n",
    "    kmeans = KMeans(n_clusters = i, init = 'k-means++', max_iter = 300, \\\n",
    "                    n_init = 10, random_state = 0)\n",
    "    kmeans.fit(x)\n",
    "    wcss.append(kmeans.inertia_)\n",
    "    #print(wcss)\n",
    "    #print(kmeans.precompute_distances)\n",
    "    \n",
    "#Plotting the results onto a line graph, allowing us to observe 'The elbow'\n",
    "plt.plot(range(1, 11), wcss)\n",
    "plt.title('The elbow method')\n",
    "plt.xlabel('Number of clusters')\n",
    "plt.ylabel('WCSS') #within cluster sum of squares\n",
    "plt.show()"
   ]
  },
  {
   "cell_type": "code",
   "execution_count": 9,
   "metadata": {},
   "outputs": [],
   "source": [
    "#Applying kmeans to the dataset / Creating the kmeans classifier\n",
    "kmeans = KMeans(n_clusters = 3, init = 'k-means++', max_iter = 300, n_init = 10, random_state = 0)\n",
    "y_kmeans = kmeans.fit_predict(x)"
   ]
  },
  {
   "cell_type": "code",
   "execution_count": 10,
   "metadata": {
    "scrolled": true
   },
   "outputs": [
    {
     "data": {
      "text/plain": [
       "array([1, 1, 1, 1, 1, 1, 1, 1, 1, 1, 1, 1, 1, 1, 1, 1, 1, 1, 1, 1, 1, 1,\n",
       "       1, 1, 1, 1, 1, 1, 1, 1, 1, 1, 1, 1, 1, 1, 1, 1, 1, 1, 1, 1, 1, 1,\n",
       "       1, 1, 1, 1, 1, 1, 0, 0, 2, 0, 0, 0, 0, 0, 0, 0, 0, 0, 0, 0, 0, 0,\n",
       "       0, 0, 0, 0, 0, 0, 0, 0, 0, 0, 0, 2, 0, 0, 0, 0, 0, 0, 0, 0, 0, 0,\n",
       "       0, 0, 0, 0, 0, 0, 0, 0, 0, 0, 0, 0, 2, 0, 2, 2, 2, 2, 0, 2, 2, 2,\n",
       "       2, 2, 2, 0, 0, 2, 2, 2, 2, 0, 2, 0, 2, 0, 2, 2, 0, 0, 2, 2, 2, 2,\n",
       "       2, 0, 2, 2, 2, 2, 0, 2, 2, 2, 0, 2, 2, 2, 0, 2, 2, 0])"
      ]
     },
     "execution_count": 10,
     "metadata": {},
     "output_type": "execute_result"
    }
   ],
   "source": [
    "y_kmeans"
   ]
  },
  {
   "cell_type": "code",
   "execution_count": 13,
   "metadata": {},
   "outputs": [
    {
     "data": {
      "text/plain": [
       "array([[5.9016129 , 2.7483871 , 4.39354839, 1.43387097],\n",
       "       [5.006     , 3.418     , 1.464     , 0.244     ],\n",
       "       [6.85      , 3.07368421, 5.74210526, 2.07105263]])"
      ]
     },
     "execution_count": 13,
     "metadata": {},
     "output_type": "execute_result"
    }
   ],
   "source": [
    "kmeans.cluster_centers_"
   ]
  },
  {
   "cell_type": "code",
   "execution_count": 7,
   "metadata": {},
   "outputs": [
    {
     "data": {
      "text/plain": [
       "array([2.7483871 , 3.418     , 3.07368421])"
      ]
     },
     "execution_count": 7,
     "metadata": {},
     "output_type": "execute_result"
    }
   ],
   "source": [
    "kmeans.cluster_centers_[:, 1]"
   ]
  },
  {
   "cell_type": "code",
   "execution_count": 8,
   "metadata": {
    "scrolled": true
   },
   "outputs": [
    {
     "data": {
      "text/plain": [
       "<matplotlib.legend.Legend at 0x282d8724e48>"
      ]
     },
     "execution_count": 8,
     "metadata": {},
     "output_type": "execute_result"
    },
    {
     "data": {
      "image/png": "[encoded data removed]",
      "text/plain": [
       "<matplotlib.figure.Figure at 0x282d86859e8>"
      ]
     },
     "metadata": {},
     "output_type": "display_data"
    }
   ],
   "source": [
    "% matplotlib inline\n",
    "#Visualising the clusters\n",
    "plt.scatter(x[y_kmeans == 0, 0], x[y_kmeans == 0, 1], s = 100, c = 'red', label = 'Iris-setosa')\n",
    "plt.scatter(x[y_kmeans == 1, 0], x[y_kmeans == 1, 1], s = 100, c = 'blue', label = 'Iris-versicolour')\n",
    "plt.scatter(x[y_kmeans == 2, 0], x[y_kmeans == 2, 1], s = 100, c = 'green', label = 'Iris-virginica')\n",
    "\n",
    "#Plotting the centroids of the clusters\n",
    "plt.scatter(kmeans.cluster_centers_[:, 0], kmeans.cluster_centers_[:,1], s = 100, c = 'yellow', label = 'Centroids')\n",
    "\n",
    "plt.legend()"
   ]
  },
  {
   "cell_type": "markdown",
   "metadata": {},
   "source": [
    "# Hierarchial Clustering "
   ]
  },
  {
   "cell_type": "code",
   "execution_count": 12,
   "metadata": {},
   "outputs": [
    {
     "data": {
      "image/png": "[encoded data removed]",
      "text/plain": [
       "<matplotlib.figure.Figure at 0x1ff22c77be0>"
      ]
     },
     "metadata": {},
     "output_type": "display_data"
    }
   ],
   "source": [
    "# calculate full dendrogram\n",
    "from scipy.cluster.hierarchy import dendrogram, linkage\n",
    "\n",
    "# generate the linkage matrix\n",
    "Z = linkage(x, 'ward')\n",
    "\n",
    "# set cut-off to 150\n",
    "max_d = 7.08                # max_d as in max_distance\n",
    "\n",
    "plt.figure(figsize=(25, 10))\n",
    "plt.title('Iris Hierarchical Clustering Dendrogram')\n",
    "plt.xlabel('Species')\n",
    "plt.ylabel('distance')\n",
    "dendrogram(\n",
    "    Z,\n",
    "    truncate_mode='lastp',  # show only the last p merged clusters\n",
    "    p=150,                  # Try changing values of p\n",
    "    leaf_rotation=90.,      # rotates the x axis labels\n",
    "    leaf_font_size=8.,      # font size for the x axis labels\n",
    ")\n",
    "plt.axhline(y=max_d)\n",
    "plt.show()"
   ]
  },
  {
   "cell_type": "code",
   "execution_count": 14,
   "metadata": {},
   "outputs": [
    {
     "data": {
      "text/plain": [
       "\u001b[1;31mSignature:\u001b[0m \u001b[0mfcluster\u001b[0m\u001b[1;33m(\u001b[0m\u001b[0mZ\u001b[0m\u001b[1;33m,\u001b[0m \u001b[0mt\u001b[0m\u001b[1;33m,\u001b[0m \u001b[0mcriterion\u001b[0m\u001b[1;33m=\u001b[0m\u001b[1;34m'inconsistent'\u001b[0m\u001b[1;33m,\u001b[0m \u001b[0mdepth\u001b[0m\u001b[1;33m=\u001b[0m\u001b[1;36m2\u001b[0m\u001b[1;33m,\u001b[0m \u001b[0mR\u001b[0m\u001b[1;33m=\u001b[0m\u001b[1;32mNone\u001b[0m\u001b[1;33m,\u001b[0m \u001b[0mmonocrit\u001b[0m\u001b[1;33m=\u001b[0m\u001b[1;32mNone\u001b[0m\u001b[1;33m)\u001b[0m\u001b[1;33m\u001b[0m\u001b[0m\n",
       "\u001b[1;31mDocstring:\u001b[0m\n",
       "Form flat clusters from the hierarchical clustering defined by\n",
       "the given linkage matrix.\n",
       "\n",
       "Parameters\n",
       "----------\n",
       "Z : ndarray\n",
       "    The hierarchical clustering encoded with the matrix returned\n",
       "    by the `linkage` function.\n",
       "t : scalar\n",
       "    For criteria 'inconsistent', 'distance' or 'monocrit',\n",
       "     this is the threshold to apply when forming flat clusters.\n",
       "    For 'maxclust' or 'maxclust_monocrit' criteria,\n",
       "     this would be max number of clusters requested.\n",
       "criterion : str, optional\n",
       "    The criterion to use in forming flat clusters. This can\n",
       "    be any of the following values:\n",
       "\n",
       "      ``inconsistent`` :\n",
       "          If a cluster node and all its\n",
       "          descendants have an inconsistent value less than or equal\n",
       "          to `t` then all its leaf descendants belong to the\n",
       "          same flat cluster. When no non-singleton cluster meets\n",
       "          this criterion, every node is assigned to its own\n",
       "          cluster. (Default)\n",
       "\n",
       "      ``distance`` :\n",
       "          Forms flat clusters so that the original\n",
       "          observations in each flat cluster have no greater a\n",
       "          cophenetic distance than `t`.\n",
       "\n",
       "      ``maxclust`` :\n",
       "          Finds a minimum threshold ``r`` so that\n",
       "          the cophenetic distance between any two original\n",
       "          observations in the same flat cluster is no more than\n",
       "          ``r`` and no more than `t` flat clusters are formed.\n",
       "\n",
       "      ``monocrit`` :\n",
       "          Forms a flat cluster from a cluster node c\n",
       "          with index i when ``monocrit[j] <= t``.\n",
       "\n",
       "          For example, to threshold on the maximum mean distance\n",
       "          as computed in the inconsistency matrix R with a\n",
       "          threshold of 0.8 do::\n",
       "\n",
       "              MR = maxRstat(Z, R, 3)\n",
       "              cluster(Z, t=0.8, criterion='monocrit', monocrit=MR)\n",
       "\n",
       "      ``maxclust_monocrit`` :\n",
       "          Forms a flat cluster from a\n",
       "          non-singleton cluster node ``c`` when ``monocrit[i] <=\n",
       "          r`` for all cluster indices ``i`` below and including\n",
       "          ``c``. ``r`` is minimized such that no more than ``t``\n",
       "          flat clusters are formed. monocrit must be\n",
       "          monotonic. For example, to minimize the threshold t on\n",
       "          maximum inconsistency values so that no more than 3 flat\n",
       "          clusters are formed, do::\n",
       "\n",
       "              MI = maxinconsts(Z, R)\n",
       "              cluster(Z, t=3, criterion='maxclust_monocrit', monocrit=MI)\n",
       "\n",
       "depth : int, optional\n",
       "    The maximum depth to perform the inconsistency calculation.\n",
       "    It has no meaning for the other criteria. Default is 2.\n",
       "R : ndarray, optional\n",
       "    The inconsistency matrix to use for the 'inconsistent'\n",
       "    criterion. This matrix is computed if not provided.\n",
       "monocrit : ndarray, optional\n",
       "    An array of length n-1. `monocrit[i]` is the\n",
       "    statistics upon which non-singleton i is thresholded. The\n",
       "    monocrit vector must be monotonic, i.e. given a node c with\n",
       "    index i, for all node indices j corresponding to nodes\n",
       "    below c, ``monocrit[i] >= monocrit[j]``.\n",
       "\n",
       "Returns\n",
       "-------\n",
       "fcluster : ndarray\n",
       "    An array of length ``n``. ``T[i]`` is the flat cluster number to\n",
       "    which original observation ``i`` belongs.\n",
       "\n",
       "See Also\n",
       "--------\n",
       "linkage : for information about hierarchical clustering methods work.\n",
       "\n",
       "Examples\n",
       "--------\n",
       ">>> from scipy.cluster.hierarchy import ward, fcluster\n",
       ">>> from scipy.spatial.distance import pdist\n",
       "\n",
       "All cluster linkage methods - e.g. `scipy.cluster.hierarchy.ward`\n",
       "generate a linkage matrix ``Z`` as their output:\n",
       "\n",
       ">>> X = [[0, 0], [0, 1], [1, 0],\n",
       "...      [0, 4], [0, 3], [1, 4],\n",
       "...      [4, 0], [3, 0], [4, 1],\n",
       "...      [4, 4], [3, 4], [4, 3]]\n",
       "\n",
       ">>> Z = ward(pdist(X))\n",
       "\n",
       ">>> Z\n",
       "array([[ 0.        ,  1.        ,  1.        ,  2.        ],\n",
       "       [ 3.        ,  4.        ,  1.        ,  2.        ],\n",
       "       [ 6.        ,  7.        ,  1.        ,  2.        ],\n",
       "       [ 9.        , 10.        ,  1.        ,  2.        ],\n",
       "       [ 2.        , 12.        ,  1.29099445,  3.        ],\n",
       "       [ 5.        , 13.        ,  1.29099445,  3.        ],\n",
       "       [ 8.        , 14.        ,  1.29099445,  3.        ],\n",
       "       [11.        , 15.        ,  1.29099445,  3.        ],\n",
       "       [16.        , 17.        ,  5.77350269,  6.        ],\n",
       "       [18.        , 19.        ,  5.77350269,  6.        ],\n",
       "       [20.        , 21.        ,  8.16496581, 12.        ]])\n",
       "\n",
       "This matrix represents a dendrogram, where the first and second elements\n",
       "are the two clusters merged at each step, the third element is the\n",
       "distance between these clusters, and the fourth element is the size of\n",
       "the new cluster - the number of original data points included.\n",
       "\n",
       "`scipy.cluster.hierarchy.fcluster` can be used to flatten the\n",
       "dendrogram, obtaining as a result an assignation of the original data\n",
       "points to single clusters.\n",
       "\n",
       "This assignation mostly depends on a distance threshold ``t`` - the maximum\n",
       "inter-cluster distance allowed:\n",
       "\n",
       ">>> fcluster(Z, t=0.9, criterion='distance')\n",
       "array([ 1,  2,  3,  4,  5,  6,  7,  8,  9, 10, 11, 12], dtype=int32)\n",
       "\n",
       ">>> fcluster(Z, t=1.1, criterion='distance')\n",
       "array([1, 1, 2, 3, 3, 4, 5, 5, 6, 7, 7, 8], dtype=int32)\n",
       "\n",
       ">>> fcluster(Z, t=3, criterion='distance')\n",
       "array([1, 1, 1, 2, 2, 2, 3, 3, 3, 4, 4, 4], dtype=int32)\n",
       "\n",
       ">>> fcluster(Z, t=9, criterion='distance')\n",
       "array([1, 1, 1, 1, 1, 1, 1, 1, 1, 1, 1, 1], dtype=int32)\n",
       "\n",
       "In the first case, the threshold ``t`` is too small to allow any two\n",
       "samples in the data to form a cluster, so 12 different clusters are\n",
       "returned.\n",
       "\n",
       "In the second case, the threshold is large enough to allow the first\n",
       "4 points to be merged with their nearest neighbors. So here only 8\n",
       "clusters are returned.\n",
       "\n",
       "The third case, with a much higher threshold, allows for up to 8 data\n",
       "points to be connected - so 4 clusters are returned here.\n",
       "\n",
       "Lastly, the threshold of the fourth case is large enough to allow for\n",
       "all data points to be merged together - so a single cluster is returned.\n",
       "\u001b[1;31mFile:\u001b[0m      c:\\users\\ashranja\\appdata\\local\\continuum\\anaconda3\\envs\\dl\\lib\\site-packages\\scipy\\cluster\\hierarchy.py\n",
       "\u001b[1;31mType:\u001b[0m      function\n"
      ]
     },
     "metadata": {},
     "output_type": "display_data"
    }
   ],
   "source": [
    "?fcluster"
   ]
  },
  {
   "cell_type": "code",
   "execution_count": 19,
   "metadata": {
    "collapsed": true
   },
   "outputs": [],
   "source": [
    " from scipy.cluster.hierarchy import fcluster\n",
    "fl = fcluster(Z,3,criterion='maxclust')"
   ]
  },
  {
   "cell_type": "code",
   "execution_count": 21,
   "metadata": {},
   "outputs": [
    {
     "data": {
      "text/plain": [
       "3    64\n",
       "1    50\n",
       "2    36\n",
       "dtype: int64"
      ]
     },
     "execution_count": 21,
     "metadata": {},
     "output_type": "execute_result"
    }
   ],
   "source": [
    "fl\n",
    "pd.Series(fl).value_counts()"
   ]
  },
  {
   "cell_type": "code",
   "execution_count": 17,
   "metadata": {},
   "outputs": [
    {
     "data": {
      "text/plain": [
       "0    62\n",
       "1    50\n",
       "2    38\n",
       "dtype: int64"
      ]
     },
     "execution_count": 17,
     "metadata": {},
     "output_type": "execute_result"
    }
   ],
   "source": [
    "pd.Series(y_kmeans).value_counts()"
   ]
  }
 ],
 "metadata": {
  "kernelspec": {
   "display_name": "Python 3",
   "language": "python",
   "name": "python3"
  },
  "language_info": {
   "codemirror_mode": {
    "name": "ipython",
    "version": 3
   },
   "file_extension": ".py",
   "mimetype": "text/x-python",
   "name": "python",
   "nbconvert_exporter": "python",
   "pygments_lexer": "ipython3",
   "version": "3.7.4"
  }
 },
 "nbformat": 4,
 "nbformat_minor": 2
}

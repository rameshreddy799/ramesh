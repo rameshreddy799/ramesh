{
 "cells": [
  {
   "cell_type": "code",
   "execution_count": 3,
   "metadata": {},
   "outputs": [
    {
     "data": {
      "text/plain": [
       "['This',\n",
       " 'is',\n",
       " 'a',\n",
       " 'machine',\n",
       " 'learning',\n",
       " 'course',\n",
       " ',',\n",
       " 'we',\n",
       " 'teach',\n",
       " 'data']"
      ]
     },
     "execution_count": 3,
     "metadata": {},
     "output_type": "execute_result"
    }
   ],
   "source": [
    "token[0:10]"
   ]
  },
  {
   "cell_type": "code",
   "execution_count": 17,
   "metadata": {
    "collapsed": true
   },
   "outputs": [],
   "source": [
    "import nltk\n",
    "from nltk import ngrams\n",
    "from nltk import sent_tokenize\n",
    "from nltk import word_tokenize\n",
    "from nltk import pos_tag"
   ]
  },
  {
   "cell_type": "code",
   "execution_count": 18,
   "metadata": {},
   "outputs": [],
   "source": [
    "text = \"Data Science is a new field and applied to many different domains.\"\n",
    "sent_tokens = nltk.sent_tokenize(text)"
   ]
  },
  {
   "cell_type": "code",
   "execution_count": 19,
   "metadata": {},
   "outputs": [],
   "source": [
    "token = word_tokenize(text)"
   ]
  },
  {
   "cell_type": "code",
   "execution_count": 12,
   "metadata": {},
   "outputs": [
    {
     "data": {
      "text/plain": [
       "'Data Science is a new field and applied to many different domains.'"
      ]
     },
     "execution_count": 12,
     "metadata": {},
     "output_type": "execute_result"
    }
   ],
   "source": [
    "sent_tokens[0]"
   ]
  },
  {
   "cell_type": "code",
   "execution_count": 20,
   "metadata": {},
   "outputs": [],
   "source": [
    "bigrams = ngrams(token,2)"
   ]
  },
  {
   "cell_type": "code",
   "execution_count": 21,
   "metadata": {},
   "outputs": [
    {
     "name": "stdout",
     "output_type": "stream",
     "text": [
      "('Data', 'Science')\n",
      "('Science', 'is')\n",
      "('is', 'a')\n",
      "('a', 'new')\n",
      "('new', 'field')\n",
      "('field', 'and')\n",
      "('and', 'applied')\n",
      "('applied', 'to')\n",
      "('to', 'many')\n",
      "('many', 'different')\n",
      "('different', 'domains')\n",
      "('domains', '.')\n"
     ]
    }
   ],
   "source": [
    "for k in bigrams:\n",
    "    print k"
   ]
  },
  {
   "cell_type": "code",
   "execution_count": 15,
   "metadata": {},
   "outputs": [
    {
     "name": "stdout",
     "output_type": "stream",
     "text": [
      "Data\n",
      "Science\n",
      "is\n",
      "a\n",
      "new\n",
      "field\n",
      "and\n",
      "applied\n",
      "to\n",
      "many\n",
      "different\n",
      "domains\n",
      ".\n"
     ]
    }
   ],
   "source": [
    "for token in token: \n",
    "    print token"
   ]
  },
  {
   "cell_type": "code",
   "execution_count": 25,
   "metadata": {
    "collapsed": true
   },
   "outputs": [],
   "source": [
    "trigrams = ngrams(token,3)"
   ]
  },
  {
   "cell_type": "code",
   "execution_count": 26,
   "metadata": {},
   "outputs": [
    {
     "name": "stdout",
     "output_type": "stream",
     "text": [
      "('Data', 'Science', 'is')\n",
      "('Science', 'is', 'a')\n",
      "('is', 'a', 'new')\n",
      "('a', 'new', 'field')\n",
      "('new', 'field', 'and')\n",
      "('field', 'and', 'applied')\n",
      "('and', 'applied', 'to')\n",
      "('applied', 'to', 'many')\n",
      "('to', 'many', 'different')\n",
      "('many', 'different', 'domains')\n",
      "('different', 'domains', '.')\n"
     ]
    }
   ],
   "source": [
    "for k in trigrams:\n",
    "    print k"
   ]
  },
  {
   "cell_type": "code",
   "execution_count": 4,
   "metadata": {},
   "outputs": [
    {
     "name": "stdout",
     "output_type": "stream",
     "text": [
      "('This', 'is')\n",
      "('is', 'a')\n",
      "('a', 'machine')\n",
      "('machine', 'learning')\n",
      "('learning', 'course')\n",
      "('course', ',')\n",
      "(',', 'we')\n",
      "('we', 'teach')\n",
      "('teach', 'data')\n",
      "('data', 'science')\n",
      "('science', '.')\n",
      "('.', 'We')\n",
      "('We', 'use')\n",
      "('use', 'R')\n",
      "('R', 'and')\n",
      "('and', 'Python')\n"
     ]
    }
   ],
   "source": [
    "for grams in bigrams:\n",
    "    print grams"
   ]
  },
  {
   "cell_type": "code",
   "execution_count": 4,
   "metadata": {
    "collapsed": true
   },
   "outputs": [],
   "source": [
    "from nltk import sent_tokenize\n",
    "sent_token=nltk.sent_tokenize(text)"
   ]
  },
  {
   "cell_type": "code",
   "execution_count": 5,
   "metadata": {},
   "outputs": [
    {
     "name": "stdout",
     "output_type": "stream",
     "text": [
      "This is a machine learning course, we teach data science.\n",
      "We use R and Python\n"
     ]
    }
   ],
   "source": [
    "for sent in sent_token:\n",
    "    print sent"
   ]
  },
  {
   "cell_type": "code",
   "execution_count": 6,
   "metadata": {
    "collapsed": true
   },
   "outputs": [],
   "source": [
    "trigrams = ngrams(token,3)"
   ]
  },
  {
   "cell_type": "code",
   "execution_count": 7,
   "metadata": {},
   "outputs": [
    {
     "name": "stdout",
     "output_type": "stream",
     "text": [
      "('This', 'is', 'a')\n",
      "('is', 'a', 'machine')\n",
      "('a', 'machine', 'learning')\n",
      "('machine', 'learning', 'course')\n",
      "('learning', 'course', ',')\n",
      "('course', ',', 'we')\n",
      "(',', 'we', 'teach')\n",
      "('we', 'teach', 'data')\n",
      "('teach', 'data', 'science')\n",
      "('data', 'science', '.')\n",
      "('science', '.', 'We')\n",
      "('.', 'We', 'use')\n",
      "('We', 'use', 'R')\n",
      "('use', 'R', 'and')\n",
      "('R', 'and', 'Python')\n"
     ]
    }
   ],
   "source": [
    "for grams in trigrams:\n",
    "    print grams"
   ]
  },
  {
   "cell_type": "code",
   "execution_count": 41,
   "metadata": {
    "collapsed": true
   },
   "outputs": [],
   "source": [
    "sentences = nltk.sent_tokenize(text)\n"
   ]
  },
  {
   "cell_type": "code",
   "execution_count": 42,
   "metadata": {},
   "outputs": [
    {
     "data": {
      "text/plain": [
       "['This is a machine learning course, we teach data science.',\n",
       " 'We use R and Python']"
      ]
     },
     "execution_count": 42,
     "metadata": {},
     "output_type": "execute_result"
    }
   ],
   "source": [
    "sentences"
   ]
  },
  {
   "cell_type": "code",
   "execution_count": 9,
   "metadata": {
    "collapsed": true
   },
   "outputs": [],
   "source": [
    "corpus = [\n",
    "...     'This is the first document.',\n",
    "...     'This is the second second document.',\n",
    "...     'And the third one.',\n",
    "...     'Is this the first document?',\n",
    "... ]"
   ]
  },
  {
   "cell_type": "code",
   "execution_count": 10,
   "metadata": {
    "collapsed": true
   },
   "outputs": [],
   "source": [
    "from sklearn.feature_extraction.text import TfidfVectorizer\n",
    "vectorizer = TfidfVectorizer(min_df=1, max_df= 3)\n",
    "a = vectorizer.fit_transform(corpus)"
   ]
  },
  {
   "cell_type": "code",
   "execution_count": 11,
   "metadata": {},
   "outputs": [
    {
     "data": {
      "text/plain": [
       "array([[ 0.        ,  0.47006328,  0.58062167,  0.47006328,  0.        ,\n",
       "         0.        ,  0.        ,  0.47006328],\n",
       "       [ 0.        ,  0.27931097,  0.        ,  0.27931097,  0.        ,\n",
       "         0.87518921,  0.        ,  0.27931097],\n",
       "       [ 0.57735027,  0.        ,  0.        ,  0.        ,  0.57735027,\n",
       "         0.        ,  0.57735027,  0.        ],\n",
       "       [ 0.        ,  0.47006328,  0.58062167,  0.47006328,  0.        ,\n",
       "         0.        ,  0.        ,  0.47006328]])"
      ]
     },
     "execution_count": 11,
     "metadata": {},
     "output_type": "execute_result"
    }
   ],
   "source": [
    "a.toarray()"
   ]
  }
 ],
 "metadata": {
  "kernelspec": {
   "display_name": "Python 2",
   "language": "python",
   "name": "python2"
  },
  "language_info": {
   "codemirror_mode": {
    "name": "ipython",
    "version": 2
   },
   "file_extension": ".py",
   "mimetype": "text/x-python",
   "name": "python",
   "nbconvert_exporter": "python",
   "pygments_lexer": "ipython2",
   "version": "2.7.12"
  }
 },
 "nbformat": 4,
 "nbformat_minor": 2
}

{
 "cells": [
  {
   "cell_type": "code",
   "execution_count": 3,
   "metadata": {},
   "outputs": [],
   "source": [
    "from textblob import TextBlob"
   ]
  },
  {
   "cell_type": "code",
   "execution_count": 1,
   "metadata": {},
   "outputs": [],
   "source": [
    "text = \"Natural language processing (NLP) deals with the application of computational models to text or speech data. Application areas within NLP include automatic (machine) translation between languages; dialogue systems, which allow a human to interact with a machine using natural language; and information extraction, where the goal is to transform unstructured text into structured (database) representations that can be searched and browsed in flexible ways. NLP technologies are having a dramatic impact on the way people interact with computers, on the way people interact with each other through the use of language, and on the way people access the vast amount of linguistic data now in electronic form. From a scientific viewpoint, NLP involves fundamental questions of how to structure formal models (for example statistical models) of natural language phenomena, and of how to design algorithms that implement these models.\""
   ]
  },
  {
   "cell_type": "code",
   "execution_count": 4,
   "metadata": {},
   "outputs": [],
   "source": [
    "blob = TextBlob(text)"
   ]
  },
  {
   "cell_type": "code",
   "execution_count": 5,
   "metadata": {},
   "outputs": [
    {
     "data": {
      "text/plain": [
       "[Sentence(\"Natural language processing (NLP) deals with the application of computational models to text or speech data.\"),\n",
       " Sentence(\"Application areas within NLP include automatic (machine) translation between languages; dialogue systems, which allow a human to interact with a machine using natural language; and information extraction, where the goal is to transform unstructured text into structured (database) representations that can be searched and browsed in flexible ways.\"),\n",
       " Sentence(\"NLP technologies are having a dramatic impact on the way people interact with computers, on the way people interact with each other through the use of language, and on the way people access the vast amount of linguistic data now in electronic form.\"),\n",
       " Sentence(\"From a scientific viewpoint, NLP involves fundamental questions of how to structure formal models (for example statistical models) of natural language phenomena, and of how to design algorithms that implement these models.\")]"
      ]
     },
     "execution_count": 5,
     "metadata": {},
     "output_type": "execute_result"
    }
   ],
   "source": [
    "blob.sentences"
   ]
  },
  {
   "cell_type": "code",
   "execution_count": 5,
   "metadata": {},
   "outputs": [
    {
     "data": {
      "text/plain": [
       "[('Natural', u'JJ'),\n",
       " ('language', u'NN'),\n",
       " ('processing', u'NN'),\n",
       " ('NLP', u'NNP'),\n",
       " ('deals', u'VBZ'),\n",
       " ('with', u'IN'),\n",
       " ('the', u'DT'),\n",
       " ('application', u'NN'),\n",
       " ('of', u'IN'),\n",
       " ('computational', u'JJ'),\n",
       " ('models', u'NNS'),\n",
       " ('to', u'TO'),\n",
       " ('text', u'VB'),\n",
       " ('or', u'CC'),\n",
       " ('speech', u'VB'),\n",
       " ('data', u'NNS'),\n",
       " ('Application', u'NNP'),\n",
       " ('areas', u'NNS'),\n",
       " ('within', u'IN'),\n",
       " ('NLP', u'NNP'),\n",
       " ('include', u'VBP'),\n",
       " ('automatic', u'JJ'),\n",
       " ('machine', u'NN'),\n",
       " ('translation', u'NN'),\n",
       " ('between', u'IN'),\n",
       " ('languages', u'NNS'),\n",
       " ('dialogue', u'NN'),\n",
       " ('systems', u'NNS'),\n",
       " ('which', u'WDT'),\n",
       " ('allow', u'VBP'),\n",
       " ('a', u'DT'),\n",
       " ('human', u'JJ'),\n",
       " ('to', u'TO'),\n",
       " ('interact', u'VB'),\n",
       " ('with', u'IN'),\n",
       " ('a', u'DT'),\n",
       " ('machine', u'NN'),\n",
       " ('using', u'VBG'),\n",
       " ('natural', u'JJ'),\n",
       " ('language', u'NN'),\n",
       " ('and', u'CC'),\n",
       " ('information', u'NN'),\n",
       " ('extraction', u'NN'),\n",
       " ('where', u'WRB'),\n",
       " ('the', u'DT'),\n",
       " ('goal', u'NN'),\n",
       " ('is', u'VBZ'),\n",
       " ('to', u'TO'),\n",
       " ('transform', u'VB'),\n",
       " ('unstructured', u'JJ'),\n",
       " ('text', u'NN'),\n",
       " ('into', u'IN'),\n",
       " ('structured', u'VBN'),\n",
       " ('database', u'NN'),\n",
       " ('representations', u'NNS'),\n",
       " ('that', u'WDT'),\n",
       " ('can', u'MD'),\n",
       " ('be', u'VB'),\n",
       " ('searched', u'VBN'),\n",
       " ('and', u'CC'),\n",
       " ('browsed', u'VBN'),\n",
       " ('in', u'IN'),\n",
       " ('flexible', u'JJ'),\n",
       " ('ways', u'NNS'),\n",
       " ('NLP', u'NNP'),\n",
       " ('technologies', u'NNS'),\n",
       " ('are', u'VBP'),\n",
       " ('having', u'VBG'),\n",
       " ('a', u'DT'),\n",
       " ('dramatic', u'JJ'),\n",
       " ('impact', u'NN'),\n",
       " ('on', u'IN'),\n",
       " ('the', u'DT'),\n",
       " ('way', u'NN'),\n",
       " ('people', u'NNS'),\n",
       " ('interact', u'VBP'),\n",
       " ('with', u'IN'),\n",
       " ('computers', u'NNS'),\n",
       " ('on', u'IN'),\n",
       " ('the', u'DT'),\n",
       " ('way', u'NN'),\n",
       " ('people', u'NNS'),\n",
       " ('interact', u'VBP'),\n",
       " ('with', u'IN'),\n",
       " ('each', u'DT'),\n",
       " ('other', u'JJ'),\n",
       " ('through', u'IN'),\n",
       " ('the', u'DT'),\n",
       " ('use', u'NN'),\n",
       " ('of', u'IN'),\n",
       " ('language', u'NN'),\n",
       " ('and', u'CC'),\n",
       " ('on', u'IN'),\n",
       " ('the', u'DT'),\n",
       " ('way', u'NN'),\n",
       " ('people', u'NNS'),\n",
       " ('access', u'NN'),\n",
       " ('the', u'DT'),\n",
       " ('vast', u'JJ'),\n",
       " ('amount', u'NN'),\n",
       " ('of', u'IN'),\n",
       " ('linguistic', u'JJ'),\n",
       " ('data', u'NNS'),\n",
       " ('now', u'RB'),\n",
       " ('in', u'IN'),\n",
       " ('electronic', u'JJ'),\n",
       " ('form', u'NN'),\n",
       " ('From', u'IN'),\n",
       " ('a', u'DT'),\n",
       " ('scientific', u'JJ'),\n",
       " ('viewpoint', u'NN'),\n",
       " ('NLP', u'NNP'),\n",
       " ('involves', u'VBZ'),\n",
       " ('fundamental', u'JJ'),\n",
       " ('questions', u'NNS'),\n",
       " ('of', u'IN'),\n",
       " ('how', u'WRB'),\n",
       " ('to', u'TO'),\n",
       " ('structure', u'NN'),\n",
       " ('formal', u'JJ'),\n",
       " ('models', u'NNS'),\n",
       " ('for', u'IN'),\n",
       " ('example', u'NN'),\n",
       " ('statistical', u'JJ'),\n",
       " ('models', u'NNS'),\n",
       " ('of', u'IN'),\n",
       " ('natural', u'JJ'),\n",
       " ('language', u'NN'),\n",
       " ('phenomena', u'NN'),\n",
       " ('and', u'CC'),\n",
       " ('of', u'IN'),\n",
       " ('how', u'WRB'),\n",
       " ('to', u'TO'),\n",
       " ('design', u'VB'),\n",
       " ('algorithms', u'RP'),\n",
       " ('that', u'DT'),\n",
       " ('implement', u'NN'),\n",
       " ('these', u'DT'),\n",
       " ('models', u'NNS')]"
      ]
     },
     "execution_count": 5,
     "metadata": {},
     "output_type": "execute_result"
    }
   ],
   "source": [
    "blob.tags"
   ]
  },
  {
   "cell_type": "code",
   "execution_count": 9,
   "metadata": {},
   "outputs": [
    {
     "data": {
      "text/plain": [
       "WordList([u'natural language processing', 'nlp', u'computational models', u'speech data', 'application', 'nlp', u'dialogue systems', u'natural language', u'information extraction', 'nlp', u'dramatic impact', u'way people interact', u'way people interact', u'way people access', u'vast amount', u'linguistic data', u'electronic form', u'scientific viewpoint', 'nlp', u'fundamental questions', u'formal models', u'statistical models', u'natural language phenomena', u'design algorithms'])"
      ]
     },
     "execution_count": 9,
     "metadata": {},
     "output_type": "execute_result"
    }
   ],
   "source": [
    "blob.noun_phrases"
   ]
  },
  {
   "cell_type": "code",
   "execution_count": 6,
   "metadata": {},
   "outputs": [],
   "source": [
    "text2 = \" CEO of goole Mr.Sundar, M. D is visiting Hyderabad office in July 2017. Google is starting a new R&D facility at India\""
   ]
  },
  {
   "cell_type": "code",
   "execution_count": 7,
   "metadata": {},
   "outputs": [],
   "source": [
    "blob2 = TextBlob(text2)"
   ]
  },
  {
   "cell_type": "code",
   "execution_count": 8,
   "metadata": {},
   "outputs": [
    {
     "data": {
      "text/plain": [
       "[('CEO', 'NN'),\n",
       " ('of', 'IN'),\n",
       " ('goole', 'JJ'),\n",
       " ('Mr.Sundar', 'NNP'),\n",
       " ('M.', 'NNP'),\n",
       " ('D', 'NNP'),\n",
       " ('is', 'VBZ'),\n",
       " ('visiting', 'VBG'),\n",
       " ('Hyderabad', 'NNP'),\n",
       " ('office', 'NN'),\n",
       " ('in', 'IN'),\n",
       " ('July', 'NNP'),\n",
       " ('2017', 'CD'),\n",
       " ('Google', 'NNP'),\n",
       " ('is', 'VBZ'),\n",
       " ('starting', 'VBG'),\n",
       " ('a', 'DT'),\n",
       " ('new', 'JJ'),\n",
       " ('R', 'NNP'),\n",
       " ('&', 'CC'),\n",
       " ('D', 'NNP'),\n",
       " ('facility', 'NN'),\n",
       " ('at', 'IN'),\n",
       " ('India', 'NNP')]"
      ]
     },
     "execution_count": 8,
     "metadata": {},
     "output_type": "execute_result"
    }
   ],
   "source": [
    "blob2.tags"
   ]
  },
  {
   "cell_type": "code",
   "execution_count": 9,
   "metadata": {},
   "outputs": [
    {
     "data": {
      "text/plain": [
       "[Sentence(\" CEO of goole Mr.Sundar, M. D is visiting Hyderabad office in July 2017.\"),\n",
       " Sentence(\"Google is starting a new R&D facility at India\")]"
      ]
     },
     "execution_count": 9,
     "metadata": {},
     "output_type": "execute_result"
    }
   ],
   "source": [
    "blob2.sentences\n",
    "\n"
   ]
  },
  {
   "cell_type": "code",
   "execution_count": 12,
   "metadata": {
    "collapsed": true
   },
   "outputs": [],
   "source": [
    "from nameparser import HumanName"
   ]
  },
  {
   "cell_type": "code",
   "execution_count": 13,
   "metadata": {
    "collapsed": true
   },
   "outputs": [],
   "source": [
    "name = HumanName(\"Dr. Juan Q. Xavier de la Vega III (Doc Vega)\")"
   ]
  },
  {
   "cell_type": "markdown",
   "metadata": {},
   "source": [
    "name"
   ]
  },
  {
   "cell_type": "code",
   "execution_count": 14,
   "metadata": {},
   "outputs": [
    {
     "data": {
      "text/plain": [
       "<HumanName : [\n",
       "\ttitle: 'Dr.' \n",
       "\tfirst: 'Juan' \n",
       "\tmiddle: 'Q. Xavier' \n",
       "\tlast: 'de la Vega' \n",
       "\tsuffix: 'III'\n",
       "\tnickname: 'Doc Vega'\n",
       "]>"
      ]
     },
     "execution_count": 14,
     "metadata": {},
     "output_type": "execute_result"
    }
   ],
   "source": [
    "name"
   ]
  }
 ],
 "metadata": {
  "kernelspec": {
   "display_name": "Python 2",
   "language": "python",
   "name": "python2"
  },
  "language_info": {
   "codemirror_mode": {
    "name": "ipython",
    "version": 3
   },
   "file_extension": ".py",
   "mimetype": "text/x-python",
   "name": "python",
   "nbconvert_exporter": "python",
   "pygments_lexer": "ipython3",
   "version": "3.5.2"
  }
 },
 "nbformat": 4,
 "nbformat_minor": 2
}
